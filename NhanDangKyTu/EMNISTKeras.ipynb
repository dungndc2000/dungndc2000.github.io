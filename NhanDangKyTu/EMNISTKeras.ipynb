{
  "nbformat": 4,
  "nbformat_minor": 0,
  "metadata": {
    "colab": {
      "name": "EMNISTKeras_class.ipynb",
      "provenance": [],
      "collapsed_sections": [],
      "toc_visible": true,
      "machine_shape": "hm"
    },
    "kernelspec": {
      "name": "python3",
      "display_name": "Python 3"
    },
    "accelerator": "GPU"
  },
  "cells": [
    {
      "cell_type": "markdown",
      "metadata": {
        "id": "teSUdzq1zT3h",
        "colab_type": "text"
      },
      "source": [
        "# Handwritten character recognition with Keras CNN\n",
        "Blog article found [here](https://dida.do/blog/how-to-deploy-a-tensorflow-model-as-a-javascript-web-app)"
      ]
    },
    {
      "cell_type": "markdown",
      "metadata": {
        "id": "ZdzWuIuVztZW",
        "colab_type": "text"
      },
      "source": [
        "# Acquiring data set"
      ]
    },
    {
      "cell_type": "code",
      "metadata": {
        "id": "Aiw6KBUnJprN",
        "colab_type": "code",
        "colab": {}
      },
      "source": [
        "!wget https://www.itl.nist.gov/iaui/vip/cs_links/EMNIST/gzip.zip\n",
        "!unzip gzip.zip \n",
        "!rm gzip.zip\n",
        "!pip install python-mnist"
      ],
      "execution_count": 0,
      "outputs": []
    },
    {
      "cell_type": "markdown",
      "metadata": {
        "id": "2zq5Ha8WJpEQ",
        "colab_type": "text"
      },
      "source": [
        "Source: https://www.nist.gov/node/1298471/emnist-dataset"
      ]
    },
    {
      "cell_type": "markdown",
      "metadata": {
        "id": "9O5MTk2Iz6QE",
        "colab_type": "text"
      },
      "source": [
        "# Preparing data set"
      ]
    },
    {
      "cell_type": "code",
      "metadata": {
        "id": "OCiHOtX_J77D",
        "colab_type": "code",
        "colab": {}
      },
      "source": [
        "import numpy as np\n",
        "from sklearn.utils.class_weight import compute_class_weight\n",
        "import tensorflow as tf\n",
        "from tensorflow.keras.models import Sequential\n",
        "from tensorflow.keras.layers import Convolution2D, MaxPooling2D, BatchNormalization, Flatten, Dropout, Dense\n",
        "from mnist import MNIST\n",
        "import os"
      ],
      "execution_count": 0,
      "outputs": []
    },
    {
      "cell_type": "code",
      "metadata": {
        "id": "YS-MvaU7uekd",
        "colab_type": "code",
        "colab": {}
      },
      "source": [
        "# load the entire EMNIST dataset as numpy arrays (this might take a while)\n",
        "emnist_data = MNIST(path='gzip', return_type='numpy')\n",
        "emnist_data.select_emnist('byclass')\n",
        "x_train, y_train = emnist_data.load_training()\n",
        "x_test, y_test = emnist_data.load_testing()"
      ],
      "execution_count": 0,
      "outputs": []
    },
    {
      "cell_type": "code",
      "metadata": {
        "id": "JVNkttOAwDHc",
        "colab_type": "code",
        "colab": {}
      },
      "source": [
        "x_train.shape, y_train.shape, x_test.shape, y_test.shape"
      ],
      "execution_count": 0,
      "outputs": []
    },
    {
      "cell_type": "code",
      "metadata": {
        "id": "TzwkstkWvr8k",
        "colab_type": "code",
        "colab": {}
      },
      "source": [
        "img_side = 28\n",
        "\n",
        "# Reshape tensors to [n, y, x, 1] and normalize the pixel values between [0, 1]\n",
        "x_train = x_train.reshape(-1, img_side, img_side, 1).astype('float32') / 255.0\n",
        "x_test = x_test.reshape(-1, img_side, img_side, 1).astype('float32') / 255.0\n",
        "\n",
        "x_train.shape, x_test.shape"
      ],
      "execution_count": 0,
      "outputs": []
    },
    {
      "cell_type": "code",
      "metadata": {
        "id": "mv3F3j4HgUaE",
        "colab_type": "code",
        "colab": {}
      },
      "source": [
        "# get number of classes\n",
        "unique_classes = np.unique(y_train)\n",
        "num_classes = len(unique_classes)\n",
        "\n",
        "input_shape = (img_side, img_side, 1)\n",
        "\n",
        "# weight the classes (to combat the imbalance)\n",
        "class_weights = dict(enumerate(compute_class_weight('balanced', unique_classes, y_train)))\n",
        "\n",
        "# Convert class vectors to binary class matrices\n",
        "y_train = tf.keras.utils.to_categorical(y_train, num_classes)\n",
        "y_test = tf.keras.utils.to_categorical(y_test, num_classes)"
      ],
      "execution_count": 0,
      "outputs": []
    },
    {
      "cell_type": "markdown",
      "metadata": {
        "id": "fW3npbXnz-Yt",
        "colab_type": "text"
      },
      "source": [
        "# Create model"
      ]
    },
    {
      "cell_type": "code",
      "metadata": {
        "id": "BBa-KONLdD9U",
        "colab_type": "code",
        "colab": {}
      },
      "source": [
        "kernel_size = (5, 5)\n",
        "def createmodel():\n",
        "    return Sequential([\n",
        "        Convolution2D(16, kernel_size=kernel_size, padding='same', input_shape=input_shape, activation='relu'),\n",
        "        MaxPooling2D(pool_size=(2, 2)),\n",
        "        BatchNormalization(),\n",
        "        Dropout(0.4),\n",
        "        Convolution2D(32, kernel_size=kernel_size, padding='same', activation= 'relu'), #strides=2,\n",
        "        MaxPooling2D(pool_size=(2, 2)),\n",
        "        BatchNormalization(),\n",
        "        Dropout(0.4),\n",
        "        Convolution2D(64, kernel_size=kernel_size, padding='same', activation= 'relu'),\n",
        "        MaxPooling2D(pool_size =(2,2)),\n",
        "        BatchNormalization(),\n",
        "        Dropout(0.4),\n",
        "        Flatten(),\n",
        "        Dense(256, activation='relu'),\n",
        "        BatchNormalization(),\n",
        "        Dropout(0.4),\n",
        "        Dense(num_classes, activation='softmax'),\n",
        "    ])"
      ],
      "execution_count": 0,
      "outputs": []
    },
    {
      "cell_type": "code",
      "metadata": {
        "id": "yZUPvdQogxL6",
        "colab_type": "code",
        "colab": {}
      },
      "source": [
        "# setting up model to run on cpu, or gpu when avaiable\n",
        "model = createmodel()\n",
        "model.compile(loss=\"categorical_crossentropy\",\n",
        "        optimizer=\"adam\",\n",
        "        metrics=[\"accuracy\"])"
      ],
      "execution_count": 0,
      "outputs": []
    },
    {
      "cell_type": "code",
      "metadata": {
        "id": "zXwnmXzzuwUe",
        "colab_type": "code",
        "colab": {}
      },
      "source": [
        "model.summary()\n",
        "tf.keras.utils.plot_model(model, show_shapes=True)"
      ],
      "execution_count": 0,
      "outputs": []
    },
    {
      "cell_type": "markdown",
      "metadata": {
        "id": "xgot5Yyu0Fkw",
        "colab_type": "text"
      },
      "source": [
        "# Train model"
      ]
    },
    {
      "cell_type": "code",
      "metadata": {
        "id": "0CTRnNpLs2hg",
        "colab_type": "code",
        "colab": {}
      },
      "source": [
        "es = tf.keras.callbacks.EarlyStopping(\n",
        "    monitor='val_loss',\n",
        "    mode='min',\n",
        "    verbose=1,\n",
        "    patience=10,\n",
        "    restore_best_weights=True)"
      ],
      "execution_count": 0,
      "outputs": []
    },
    {
      "cell_type": "code",
      "metadata": {
        "id": "ryc_Vx-ugx3q",
        "colab_type": "code",
        "colab": {}
      },
      "source": [
        "model.fit(x_train, y_train,\n",
        "          #class_weight=class_weights,\n",
        "          batch_size=10000,\n",
        "          epochs=200,\n",
        "          verbose=1,\n",
        "          shuffle=True,\n",
        "          validation_data=(x_test, y_test),\n",
        "          callbacks=[es])"
      ],
      "execution_count": 0,
      "outputs": []
    },
    {
      "cell_type": "markdown",
      "metadata": {
        "id": "SJGawrBZ0Ke0",
        "colab_type": "text"
      },
      "source": [
        "# Evaluate model"
      ]
    },
    {
      "cell_type": "code",
      "metadata": {
        "id": "6fKg6PqEkyLB",
        "colab_type": "code",
        "colab": {}
      },
      "source": [
        "score = model.evaluate(x_test, y_test, verbose=1)\n",
        "print('Test loss:', score[0])\n",
        "print('Test accuracy:', score[1])"
      ],
      "execution_count": 0,
      "outputs": []
    },
    {
      "cell_type": "code",
      "metadata": {
        "id": "Kjqz0VTKmj7L",
        "colab_type": "code",
        "colab": {}
      },
      "source": [
        "import matplotlib.pyplot as plt\n",
        "def plotres(x, metric):\n",
        "    plt.plot(model.history.history[metric])\n",
        "    plt.plot(model.history.history['val_'+metric])\n",
        "    plt.title(metric.upper())\n",
        "    plt.ylabel(metric)\n",
        "    plt.xlabel('Epoch')\n",
        "    plt.legend(['Train', 'Validation'])\n",
        "    plt.show()\n",
        "\n",
        "plotres(model.history.history, \"acc\")\n",
        "plotres(model.history.history, \"loss\")"
      ],
      "execution_count": 0,
      "outputs": []
    },
    {
      "cell_type": "code",
      "metadata": {
        "id": "DfSIKn45xUj-",
        "colab_type": "code",
        "colab": {}
      },
      "source": [
        "y_pred = model.predict(x_test)"
      ],
      "execution_count": 0,
      "outputs": []
    },
    {
      "cell_type": "code",
      "metadata": {
        "id": "IHQsUNI9QZWN",
        "colab_type": "code",
        "colab": {}
      },
      "source": [
        "import seaborn as sns\n",
        "import matplotlib.pyplot as plt\n",
        "import string\n",
        "from sklearn.metrics import confusion_matrix\n",
        "from sklearn.utils.multiclass import unique_labels"
      ],
      "execution_count": 0,
      "outputs": []
    },
    {
      "cell_type": "code",
      "metadata": {
        "id": "GOo-zuuKxZCc",
        "colab_type": "code",
        "colab": {}
      },
      "source": [
        "labels = string.digits+string.ascii_lowercase+string.ascii_uppercase\n",
        "plt.subplots(figsize=(20,20))\n",
        "sns.heatmap(confusion_matrix(np.argmax(y_test, axis=1), np.argmax(y_pred, axis=1)), xticklabels=labels, yticklabels=labels)"
      ],
      "execution_count": 0,
      "outputs": []
    },
    {
      "cell_type": "markdown",
      "metadata": {
        "id": "D0UJBdeX0Opz",
        "colab_type": "text"
      },
      "source": [
        "# Convert model to Javascript"
      ]
    },
    {
      "cell_type": "code",
      "metadata": {
        "id": "0kj_LrqGwchm",
        "colab_type": "code",
        "colab": {}
      },
      "source": [
        "model.save(\"cnn_emnist.h5\")"
      ],
      "execution_count": 0,
      "outputs": []
    },
    {
      "cell_type": "code",
      "metadata": {
        "id": "6z5s_xUD06VZ",
        "colab_type": "code",
        "colab": {}
      },
      "source": [
        "!pip install tensorflowjs"
      ],
      "execution_count": 0,
      "outputs": []
    },
    {
      "cell_type": "code",
      "metadata": {
        "id": "DhwgPcuw1JZ-",
        "colab_type": "code",
        "colab": {}
      },
      "source": [
        "!rm -rf jsmodel/\n",
        "!tensorflowjs_converter --input_format keras \"cnn_emnist.h5\" ./jsmodel\n",
        "!zip -r jsmodel.zip jsmodel/"
      ],
      "execution_count": 0,
      "outputs": []
    },
    {
      "cell_type": "markdown",
      "metadata": {
        "id": "cxRvFhn80ji4",
        "colab_type": "text"
      },
      "source": [
        "The JavaScript ready model is now available for download in the files panel (jsmodel.zip)"
      ]
    },
    {
      "cell_type": "code",
      "metadata": {
        "id": "ZysEPrqj0rF5",
        "colab_type": "code",
        "colab": {}
      },
      "source": [
        ""
      ],
      "execution_count": 0,
      "outputs": []
    }
  ]
}